{
 "cells": [
  {
   "cell_type": "markdown",
   "metadata": {},
   "source": [
    "# **Finding Lane Lines on the Road** \n",
    "***\n",
    "In this project, you will use the tools you learned about in the lesson to identify lane lines on the road.  You can develop your pipeline on a series of individual images, and later apply the result to a video stream (really just a series of images). Check out the video clip \"raw-lines-example.mp4\" (also contained in this repository) to see what the output should look like after using the helper functions below. \n",
    "\n",
    "Once you have a result that looks roughly like \"raw-lines-example.mp4\", you'll need to get creative and try to average and/or extrapolate the line segments you've detected to map out the full extent of the lane lines.  You can see an example of the result you're going for in the video \"P1_example.mp4\".  Ultimately, you would like to draw just one line for the left side of the lane, and one for the right.\n",
    "\n",
    "---\n",
    "Let's have a look at our first image called 'test_images/solidWhiteRight.jpg'.  Run the 2 cells below (hit Shift-Enter or the \"play\" button above) to display the image.\n",
    "\n",
    "**Note** If, at any point, you encounter frozen display windows or other confounding issues, you can always start again with a clean slate by going to the \"Kernel\" menu above and selecting \"Restart & Clear Output\".\n",
    "\n",
    "---"
   ]
  },
  {
   "cell_type": "markdown",
   "metadata": {},
   "source": [
    "**The tools you have are color selection, region of interest selection, grayscaling, Gaussian smoothing, Canny Edge Detection and Hough Tranform line detection.  You  are also free to explore and try other techniques that were not presented in the lesson.  Your goal is piece together a pipeline to detect the line segments in the image, then average/extrapolate them and draw them onto the image for display (as below).  Once you have a working pipeline, try it out on the video stream below.**\n",
    "\n",
    "---\n",
    "\n",
    "<figure>\n",
    " <img src=\"line-segments-example.jpg\" width=\"380\" alt=\"Combined Image\" />\n",
    " <figcaption>\n",
    " <p></p> \n",
    " <p style=\"text-align: center;\"> Your output should look something like this (above) after detecting line segments using the helper functions below </p> \n",
    " </figcaption>\n",
    "</figure>\n",
    " <p></p> \n",
    "<figure>\n",
    " <img src=\"laneLines_thirdPass.jpg\" width=\"380\" alt=\"Combined Image\" />\n",
    " <figcaption>\n",
    " <p></p> \n",
    " <p style=\"text-align: center;\"> Your goal is to connect/average/extrapolate line segments to get output like this</p> \n",
    " </figcaption>\n",
    "</figure>"
   ]
  },
  {
   "cell_type": "markdown",
   "metadata": {},
   "source": [
    "Helper functions are listed as follows:"
   ]
  },
  {
   "cell_type": "code",
   "execution_count": null,
   "metadata": {
    "collapsed": true
   },
   "outputs": [],
   "source": [
    "#importing some useful packages\n",
    "import math\n",
    "import os\n",
    "import matplotlib.pyplot as plt\n",
    "import matplotlib.image as mpimg\n",
    "import numpy as np\n",
    "import cv2\n",
    "from sklearn.linear_model import LinearRegression\n",
    "%matplotlib inline\n",
    "\n",
    "# in order to get stable lane, buffer N frames' slopes and intercepts\n",
    "pre_l_slopes = []\n",
    "pre_l_inters = []  \n",
    "pre_r_slopes = []\n",
    "pre_r_inters = []\n",
    "\n",
    "\n",
    "def clear_buffer():\n",
    "    \"\"\"\n",
    "    rest the lines buffer\n",
    "    :return:\n",
    "    \"\"\"\n",
    "    pre_l_slopes.clear()\n",
    "    pre_l_inters.clear()\n",
    "    pre_r_slopes.clear()\n",
    "    pre_r_inters.clear()\n",
    "\n",
    "def selectWhiteAndYellow(img):\n",
    "    \"\"\"\n",
    "    selec the white and yellow component in the hsv space.\n",
    "    (1) set the yellow/white lower and upper bound\n",
    "    (2) apply the mask to the hsv space image\n",
    "    \"\"\"\n",
    "    lower_yellow = np.array([65, 100, 100], np.uint8)\n",
    "    upper_yellow = np.array([105, 255, 255], np.uint8)\n",
    "    yellow_mask = cv2.inRange(img, lower_yellow, upper_yellow)\n",
    "\n",
    "    lower_white = np.array([0, 0, 200])\n",
    "    upper_white = np.array([179, 20, 255])  # range for H is 0:179\n",
    "    white_mask = cv2.inRange(img, lower_white, upper_white)\n",
    "\n",
    "    img = cv2.bitwise_and(img, img, mask=cv2.bitwise_or(yellow_mask, white_mask))\n",
    "    return img\n",
    "\n",
    "def grayscale(img):\n",
    "    \"\"\"Applies the Grayscale transform\n",
    "    This will return an image with only one color channel\n",
    "    but NOTE: to see the returned image as grayscale\n",
    "    you should call plt.imshow(gray, cmap='gray')\"\"\"\n",
    "    return cv2.cvtColor(img, cv2.COLOR_RGB2GRAY)\n",
    "    # Or use BGR2GRAY if you read an image with cv2.imread()\n",
    "    # return cv2.cvtColor(img, cv2.COLOR_BGR2GRAY)\n",
    "\n",
    "\n",
    "def canny(img, low_threshold, high_threshold):\n",
    "    \"\"\"Applies the Canny transform\"\"\"\n",
    "    return cv2.Canny(img, low_threshold, high_threshold)\n",
    "\n",
    "\n",
    "def gaussian_blur(img, kernel_size):\n",
    "    \"\"\"Applies a Gaussian Noise kernel\"\"\"\n",
    "    return cv2.GaussianBlur(img, (kernel_size, kernel_size), 0)\n",
    "\n",
    "\n",
    "def region_of_interest(img, vertices):\n",
    "    \"\"\"\n",
    "    Applies an image mask.\n",
    "\n",
    "    Only keeps the region of the image defined by the polygon\n",
    "    formed from `vertices`. The rest of the image is set to black.\n",
    "    \"\"\"\n",
    "    # defining a blank mask to start with\n",
    "    mask = np.zeros_like(img)\n",
    "\n",
    "    # defining a 3 channel or 1 channel color to fill the mask with depending on the input image\n",
    "    if len(img.shape) > 2:\n",
    "        channel_count = img.shape[2]  # i.e. 3 or 4 depending on your image\n",
    "        ignore_mask_color = (255,) * channel_count\n",
    "    else:\n",
    "        ignore_mask_color = 255\n",
    "\n",
    "    # filling pixels inside the polygon defined by \"vertices\" with the fill color\n",
    "    cv2.fillPoly(mask, vertices, ignore_mask_color)\n",
    "\n",
    "    # returning the image only where mask pixels are nonzero\n",
    "    masked_image = cv2.bitwise_and(img, mask)\n",
    "    return masked_image\n",
    "\n",
    "\n",
    "def outlierCleaner(predictions, x, y, inlier_percent=0.9):\n",
    "    \"\"\"\n",
    "        Clean away the 10% of points that have the largest\n",
    "        residual errors (difference between the prediction\n",
    "        and the actual y values).\n",
    "\n",
    "        Return a list of tuples named cleaned_data where\n",
    "        each tuple is of the form (x, y, error).\n",
    "    \"\"\"\n",
    "    threshold = 10  # if the biggest error is greater than 5 pixels, we perform outliers remove\n",
    "    errs = np.fabs(y - predictions)\n",
    "    max_err = max(errs)[0]\n",
    "    if max_err > threshold:  # if the biggest error is greater than 5 pixels, we remove the outliers\n",
    "        k = math.ceil(errs.size * inlier_percent)\n",
    "        survived_idx = np.argsort(errs, axis=0)[:k]  # find the number of k min errs, and return their index\n",
    "        if survived_idx.size > 0:\n",
    "            x = np.take(x, survived_idx)\n",
    "            y = np.take(y, survived_idx)\n",
    "\n",
    "    return (x, y)\n",
    "\n",
    "def findTwoPoints(slope, inter, side, height):\n",
    "    \"\"\"\n",
    "    In order to get two stable lanes,\n",
    "    (1) average the slope and itercept values in the buffers, \n",
    "    (2) fix the y coordinate of the top points\n",
    "    (3) then use the averaged slope and inter to locate the two end points of a line\n",
    "\n",
    "    :param slope: current slope from the regressor for current frame\n",
    "    :param inter: current intercept from the regressor for current frame\n",
    "    :param side:  'l': left, 'r': right lane\n",
    "    :param height: hight of the image\n",
    "    :return tow points locations, which are the two ends of a lane\n",
    "    \"\"\"\n",
    "    number_buffer_frames = 3\n",
    "    scale_y = 0.65\n",
    "    top_y = int(float(height) * scale_y)  # fix the y coordinates of the top point, so that the line is more stable\n",
    "    \n",
    "\n",
    "    if side == 'l':\n",
    "        if len(pre_l_slopes) == number_buffer_frames:  # reach the max\n",
    "            pre_l_slopes.pop(0)  # remove the oldest frame\n",
    "            pre_l_inters.pop(0)\n",
    "\n",
    "        pre_l_slopes.append(slope)\n",
    "        pre_l_inters.append(inter)\n",
    "        slope = sum(pre_l_slopes) / len(pre_l_slopes)\n",
    "        inter = sum(pre_l_inters) / len(pre_l_inters)\n",
    "\n",
    "        p1_y = height-1\n",
    "        p1_x = int((float(p1_y)-inter)/slope)\n",
    "        p2_y = top_y\n",
    "        p2_x = int((float(p2_y)-inter)/slope)\n",
    "    else:  # 'r'\n",
    "        if len(pre_r_slopes) == number_buffer_frames:  # reach the max\n",
    "            pre_r_slopes.pop(0)  # remove the oldest frame\n",
    "            pre_r_inters.pop(0)\n",
    "\n",
    "        pre_r_slopes.append(slope)\n",
    "        pre_r_inters.append(inter)\n",
    "        slope = sum(pre_r_slopes) / len(pre_r_slopes)\n",
    "        inter = sum(pre_r_inters) / len(pre_r_inters)\n",
    "\n",
    "        p1_y = top_y\n",
    "        p1_x = int((float(p1_y)-inter)/slope)\n",
    "        p2_y = height-1\n",
    "        p2_x = int((float(p2_y)-inter)/slope)\n",
    "\n",
    "    return (p1_x, p1_y, p2_x, p2_y)\n",
    "\n",
    "\n",
    "def regress_a_lane(img, x, y, color=[255, 0, 0], thickness=10):\n",
    "    \"\"\" regress a line from x, y and add it to img\n",
    "    (1) use a linear regressor to fit the data (x,y)\n",
    "    (2) remove outlier, and then fit the cleaned data again to get slope and intercept\n",
    "    (3) find the two ends of the desired line by using slope and intercept\n",
    "    \n",
    "    :param img: input image\n",
    "    :param x: x coordinate\n",
    "    :param y: y coordinate\n",
    "    :param color: line color\n",
    "    :param thickness: thickness of the line  \n",
    "    \"\"\"\n",
    "    reg = LinearRegression()\n",
    "    reg.fit(x, y)\n",
    "\n",
    "    # identify and remove outliers\n",
    "    cleaned_data = []\n",
    "    try:\n",
    "        predictions = reg.predict(x)\n",
    "        cleaned_data = outlierCleaner(predictions, x, y)\n",
    "    except NameError:\n",
    "        print(\"err in regression prediction\")\n",
    "\n",
    "    if len(cleaned_data) > 0:\n",
    "        x, y = cleaned_data   \n",
    "        # refit cleaned data!\n",
    "        try:\n",
    "            reg.fit(x, y)\n",
    "        except NameError:\n",
    "            print(\"err in reg.fit for cleaned data\")\n",
    "    else:\n",
    "        print(\"outlierCleaner() is returning an empty list, no refitting to be done\")\n",
    "\n",
    "    height = img.shape[0]\n",
    "    slope = reg.coef_\n",
    "    inter = reg.intercept_\n",
    "\n",
    "    # find the two end points of the line by using slope and iter, and then visulize the line\n",
    "    if reg.coef_ < 0:  # left lane\n",
    "        p1_x, p1_y, p2_x, p2_y = findTwoPoints(slope, inter, 'l', height)\n",
    "        cv2.line(img, (p1_x, p1_y), (p2_x, p2_y), color, thickness)\n",
    "    else:  # right lane\n",
    "        p1_x, p1_y, p2_x, p2_y = findTwoPoints(slope, inter, 'r', height)\n",
    "        cv2.line(img, (p1_x, p1_y), (p2_x, p2_y), color, thickness)\n",
    "\n",
    "\n",
    "def draw_lines(img, lines, color=[255, 0, 0], thickness=10):\n",
    "    \"\"\"\n",
    "    (1) remove some horizontal lines with given threshold_angle\n",
    "    (2) seperate the points belongs to the left and right lane by computing line slope\n",
    "    (3) handle the left/right lane points to a linear regressor to fit the line, with additional \n",
    "        steps to remove the outliers for getting a better fit.\n",
    "    \"\"\"\n",
    "    threshold_angle = 25  # if the line angle is between -25 to 25 degrees, lines are discarded\n",
    "    threshold_slope = math.tan(threshold_angle / 180 * math.pi)\n",
    "    left_lane_x = []\n",
    "    left_lane_y = []\n",
    "    right_lane_x = []\n",
    "    right_lane_y = []\n",
    "\n",
    "    for line in lines:\n",
    "        for x1, y1, x2, y2 in line:\n",
    "            if x2 != x1:\n",
    "                slope = float(y2 - y1) / float(x2 - x1)\n",
    "                if abs(slope) < threshold_slope:  # remove the horizontal lines\n",
    "                    continue\n",
    "                elif slope < 0:  # left lane, note the origin is on the left-up corner of the image\n",
    "                    left_lane_x.append([x1])\n",
    "                    left_lane_y.append([y1])\n",
    "                    left_lane_x.append([x2])\n",
    "                    left_lane_y.append([y2])\n",
    "                else:\n",
    "                    right_lane_x.append([x1])\n",
    "                    right_lane_y.append([y1])\n",
    "                    right_lane_x.append([x2])\n",
    "                    right_lane_y.append([y2])\n",
    "\n",
    "    # get left and right solid lanes with regression\n",
    "    if len(left_lane_x) > 0:  # if there are no enough points at the current frame\n",
    "        regress_a_lane(img, left_lane_x, left_lane_y)\n",
    "    if len(right_lane_x) > 0:\n",
    "        regress_a_lane(img, right_lane_x, right_lane_y)\n",
    "\n",
    "\n",
    "def hough_lines(img, rho, theta, threshold, min_line_len, max_line_gap):\n",
    "    \"\"\"\n",
    "    `img` should be the output of a Canny transform.\n",
    "\n",
    "    Returns an image with hough lines drawn.\n",
    "    \"\"\"\n",
    "    lines = cv2.HoughLinesP(img, rho, theta, threshold, np.array([]), minLineLength=min_line_len,\n",
    "                            maxLineGap=max_line_gap)\n",
    "    line_img = np.zeros((img.shape[0], img.shape[1], 3), dtype=np.uint8)\n",
    "    draw_lines(line_img, lines)\n",
    "    return line_img\n",
    "\n",
    "\n",
    "# Python 3 has support for cool math symbols.\n",
    "def weighted_img(img, initial_img, α=0.8, β=1., λ=0.):\n",
    "    \"\"\"\n",
    "    `img` is the output of the hough_lines(), An image with lines drawn on it.\n",
    "    Should be a blank image (all black) with lines drawn on it.\n",
    "\n",
    "    `initial_img` should be the image before any processing.\n",
    "\n",
    "    The result image is computed as follows:\n",
    "\n",
    "    initial_img * α + img * β + λ\n",
    "    NOTE: initial_img and img must be the same shape!\n",
    "    \"\"\"\n",
    "    return cv2.addWeighted(initial_img, α, img, β, λ)"
   ]
  },
  {
   "cell_type": "markdown",
   "metadata": {},
   "source": [
    "## Image Processing Pipeline for lane detection and visualization\n",
    "see details in function drawLanesPipeline"
   ]
  },
  {
   "cell_type": "code",
   "execution_count": null,
   "metadata": {
    "collapsed": true
   },
   "outputs": [],
   "source": [
    "def drawLanesPipeline(image):\n",
    "    \"\"\" Process one image, detect two lanes and highlight them with solid color lines\n",
    "    (1) apply the gaussian blur\n",
    "    (2) convert bgr to hsv and segment while and yellow, because it is easier in HSV space than RGB\n",
    "    (3) Canny edge detection\n",
    "    (4) apply the designed mask to the image to obtian the region of interest\n",
    "    (5) apply hough transform to get lines\n",
    "    (6) augmented the lanes on the original image\n",
    "    \n",
    "    :param image: input image\n",
    "    :return: an augmented image with two lane highlighted\n",
    "    \"\"\"\n",
    "\n",
    "    #---------set parameters----------#\n",
    "    # gaussian_blur para\n",
    "    kernel_size = 5\n",
    "    # canny edege detection para\n",
    "    low_threshold = 50\n",
    "    high_threshold = 150\n",
    "    # region_of_interest para\n",
    "    height, width, _ = image.shape\n",
    "    scale_w = 7 / 16\n",
    "    scale_h = 11 / 18\n",
    "    left_bottom = [0, height - 1]\n",
    "    right_bottom = [width - 1, height - 1]\n",
    "    left_up = [scale_w * width, scale_h * height]\n",
    "    right_up = [(1 - scale_w) * width, scale_h * height]\n",
    "    # hough_line para\n",
    "    rho = 2  # distance resolution in pixels of the Hough grid\n",
    "    theta = np.pi / 180  # angular resolution in radians of the Hough grid\n",
    "    threshold = 15  # minimum number of votes (intersections in Hough grid cell)\n",
    "    min_line_length = 15  # minimum number of pixels making up a line\n",
    "    max_line_gap = 40  # maximum gap in pixels between connectable line segments\n",
    "    #---------------------------------#\n",
    "\n",
    "    # Define a kernel size and apply Gaussian smoothing\n",
    "    blur_gray = gaussian_blur(image, kernel_size)\n",
    "\n",
    "    # convert image from bgr to hsv\n",
    "    hsv_img = cv2.cvtColor(blur_gray, cv2.COLOR_BGR2HSV)\n",
    "    \n",
    "    # filter out the white and yellow segments (lanes are either white or yellow in this case)\n",
    "    filtered_hsv = selectWhiteAndYellow(hsv_img)\n",
    "\n",
    "    # Apply Canny edge detection\n",
    "    edges = canny(filtered_hsv, low_threshold, high_threshold)\n",
    "\n",
    "    # create a masked edges image\n",
    "    vertices = np.array([[left_bottom, left_up, right_up, right_bottom]], dtype=np.int32)\n",
    "    masked_edges = region_of_interest(edges, vertices)\n",
    "\n",
    "    # Run Hough on edge detected image\n",
    "    # Output \"lines\" is an array containing endpoints of detected line segments\n",
    "    line_image = hough_lines(masked_edges, rho, theta, threshold, min_line_length, max_line_gap)\n",
    "\n",
    "    # Draw the lines on the edge image\n",
    "    output = weighted_img(line_image, image)\n",
    "\n",
    "    return output"
   ]
  },
  {
   "cell_type": "markdown",
   "metadata": {},
   "source": [
    "## Test on Images\n",
    "\n",
    "Now you should build your pipeline to work on the images in the directory \"test_images\"  \n",
    "**You should make sure your pipeline works well on these images before you try the videos.**"
   ]
  },
  {
   "cell_type": "markdown",
   "metadata": {},
   "source": [
    "run your solution on all test_images and make copies into the test_images directory)."
   ]
  },
  {
   "cell_type": "code",
   "execution_count": null,
   "metadata": {
    "collapsed": false
   },
   "outputs": [],
   "source": [
    "for fn in os.listdir(\"test_images/\"):\n",
    "    fileName, ending = os.path.splitext(fn)\n",
    "    if ending != \".jpg\":\n",
    "        continue\n",
    "\n",
    "    image = mpimg.imread(os.path.join(\"test_images\", fileName + ending))\n",
    "    \n",
    "    clear_buffer()\n",
    "    # draw two lanes on the image\n",
    "    image_augmented = drawLanesPipeline(image)\n",
    "\n",
    "    # write images to folder\n",
    "    new_filename = os.path.join(\"test_images\", \"augmented\",fileName + \"_augmented.jpg\")\n",
    "    mpimg.imsave(new_filename, image_augmented)\n",
    "\n",
    "    plt.imshow(image_augmented)\n",
    "    plt.title(fileName)\n",
    "    plt.show(block=True)"
   ]
  },
  {
   "cell_type": "markdown",
   "metadata": {},
   "source": [
    "## Test on Videos\n",
    "\n",
    "You know what's cooler than drawing lanes over images? Drawing lanes over video!\n",
    "\n",
    "We can test our solution on two provided videos:\n",
    "\n",
    "`solidWhiteRight.mp4`\n",
    "\n",
    "`solidYellowLeft.mp4`"
   ]
  },
  {
   "cell_type": "code",
   "execution_count": null,
   "metadata": {
    "collapsed": true
   },
   "outputs": [],
   "source": [
    "# Import everything needed to edit/save/watch video clips\n",
    "from moviepy.editor import VideoFileClip\n",
    "from IPython.display import HTML"
   ]
  },
  {
   "cell_type": "code",
   "execution_count": null,
   "metadata": {
    "collapsed": true
   },
   "outputs": [],
   "source": [
    "def process_image(image):\n",
    "    # call the pipeline for each video frame\n",
    "    result = drawLanesPipeline(image)\n",
    "    return result"
   ]
  },
  {
   "cell_type": "markdown",
   "metadata": {},
   "source": [
    "Let's try the one with the solid white lane on the right first ..."
   ]
  },
  {
   "cell_type": "code",
   "execution_count": null,
   "metadata": {
    "collapsed": false
   },
   "outputs": [],
   "source": [
    "white_output = 'white.mp4'\n",
    "clip1 = VideoFileClip(\"solidWhiteRight.mp4\")\n",
    "clear_buffer()\n",
    "white_clip = clip1.fl_image(process_image) #NOTE: this function expects color images!!\n",
    "%time white_clip.write_videofile(white_output, audio=False)"
   ]
  },
  {
   "cell_type": "markdown",
   "metadata": {},
   "source": [
    "Play the video inline, or if you prefer find the video in your filesystem (should be in the same directory) and play it in your video player of choice."
   ]
  },
  {
   "cell_type": "code",
   "execution_count": null,
   "metadata": {
    "collapsed": false
   },
   "outputs": [],
   "source": [
    "HTML(\"\"\"\n",
    "<video width=\"960\" height=\"540\" controls>\n",
    "  <source src=\"{0}\">\n",
    "</video>\n",
    "\"\"\".format(white_output))"
   ]
  },
  {
   "cell_type": "markdown",
   "metadata": {},
   "source": [
    "**At this point, if you were successful you probably have the Hough line segments drawn onto the road, but what about identifying the full extent of the lane and marking it clearly as in the example video (P1_example.mp4)?  Think about defining a line to run the full length of the visible lane based on the line segments you identified with the Hough Transform.  Modify your draw_lines function accordingly and try re-running your pipeline.**"
   ]
  },
  {
   "cell_type": "markdown",
   "metadata": {},
   "source": [
    "Now for the one with the solid yellow lane on the left. This one's more tricky!"
   ]
  },
  {
   "cell_type": "code",
   "execution_count": null,
   "metadata": {
    "collapsed": false
   },
   "outputs": [],
   "source": [
    "yellow_output = 'yellow.mp4'\n",
    "clip2 = VideoFileClip('solidYellowLeft.mp4')\n",
    "clear_buffer()\n",
    "yellow_clip = clip2.fl_image(process_image)\n",
    "%time yellow_clip.write_videofile(yellow_output, audio=False)"
   ]
  },
  {
   "cell_type": "code",
   "execution_count": null,
   "metadata": {
    "collapsed": false
   },
   "outputs": [],
   "source": [
    "HTML(\"\"\"\n",
    "<video width=\"960\" height=\"540\" controls>\n",
    "  <source src=\"{0}\">\n",
    "</video>\n",
    "\"\"\".format(yellow_output))"
   ]
  },
  {
   "cell_type": "markdown",
   "metadata": {},
   "source": [
    "## Reflections\n",
    "\n",
    "(1) How to handle the shadow area in \"challenge.mp4\"\n",
    "In my first implemented, it was in RGB space instead of the HSV space, and that version works quite OK until meet the “challenge.mp4”. It starts to fail when the car drives into the shadow of the trees, in which case edge detector tends to grab the boundaries of the shadow instead of the yellow lane under the shadow. After I switch to HSV space, the lane extraction is much more robust.\n",
    "\n",
    "(2) How to get a stable lane\n",
    "Firstly, I buffer the left and right lanes' slope and intercepts of N frames (in this case is 3), then when I average the current frame's slope and intercept with the previous one.\n",
    "Secondly, when I draw a lane with computed slope and intercept, I fixe the top point's vertical position. \n",
    "Thirdly, I try to remove the outliers by discarding some horizontal lines.\n",
    "Fourthly, within the linear regression, I remove 10% of points that have the largest residual errors. Due to there are not many outliers, I only iterate the outlier removal once.\n",
    "\n",
    "(3) How to make it better\n",
    "Firstly, since I fix two lanes' top point's vertical location, so when it comes to sharp curved road, the lane will overshoot. I consider to use better fit than linear line to get better visual appealing.\n",
    "Secondly,  if we want to make it more visual appealing, we can segment all visible lanes in the road, and highlights the with different colors, e.g. the both the driving lane with green, and the other lane for the coming cars with red. "
   ]
  },
  {
   "cell_type": "markdown",
   "metadata": {
    "collapsed": true
   },
   "source": [
    "## Optional Challenge\n",
    "\n",
    "Try your lane finding pipeline on the video below.  Does it still work?  Can you figure out a way to make it more robust?  If you're up for the challenge, modify your pipeline so it works with this video and submit it along with the rest of your project!"
   ]
  },
  {
   "cell_type": "code",
   "execution_count": null,
   "metadata": {
    "collapsed": false
   },
   "outputs": [],
   "source": [
    "challenge_output = 'extra.mp4'\n",
    "clip2 = VideoFileClip('challenge.mp4')\n",
    "challenge_clip = clip2.fl_image(process_image)\n",
    "%time challenge_clip.write_videofile(challenge_output, audio=False)"
   ]
  },
  {
   "cell_type": "code",
   "execution_count": null,
   "metadata": {
    "collapsed": false
   },
   "outputs": [],
   "source": [
    "HTML(\"\"\"\n",
    "<video width=\"960\" height=\"540\" controls>\n",
    "  <source src=\"{0}\">\n",
    "</video>\n",
    "\"\"\".format(challenge_output))"
   ]
  }
 ],
 "metadata": {
  "anaconda-cloud": {},
  "kernelspec": {
   "display_name": "Python [conda root]",
   "language": "python",
   "name": "conda-root-py"
  },
  "language_info": {
   "codemirror_mode": {
    "name": "ipython",
    "version": 3
   },
   "file_extension": ".py",
   "mimetype": "text/x-python",
   "name": "python",
   "nbconvert_exporter": "python",
   "pygments_lexer": "ipython3",
   "version": "3.5.2"
  }
 },
 "nbformat": 4,
 "nbformat_minor": 0
}
